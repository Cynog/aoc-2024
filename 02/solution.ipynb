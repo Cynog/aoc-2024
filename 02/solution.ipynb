{
 "cells": [
  {
   "cell_type": "markdown",
   "metadata": {},
   "source": [
    "## Part 1"
   ]
  },
  {
   "cell_type": "code",
   "execution_count": 6,
   "metadata": {},
   "outputs": [],
   "source": [
    "reports = []\n",
    "with open(\"input.txt\", \"r\") as f:\n",
    "    for line in f:\n",
    "        report_str = line.strip().split(\" \")\n",
    "        report = [int(l) for l in report_str]\n",
    "        reports.append(report)"
   ]
  },
  {
   "cell_type": "code",
   "execution_count": 7,
   "metadata": {},
   "outputs": [],
   "source": [
    "def is_decreasing(lst):\n",
    "    for i in range(1, len(lst)):\n",
    "        if lst[i] >= lst[i-1]:\n",
    "            return False\n",
    "    return True\n",
    "\n",
    "def is_increasing(lst):\n",
    "    for i in range(1, len(lst)):\n",
    "        if lst[i] <= lst[i-1]:\n",
    "            return False\n",
    "    return True\n",
    "\n",
    "def check_dst(lst):\n",
    "    for i in range(1, len(lst)):\n",
    "        if abs(lst[i] - lst[i-1]) > 3:\n",
    "            return False\n",
    "    return True"
   ]
  },
  {
   "cell_type": "code",
   "execution_count": 8,
   "metadata": {},
   "outputs": [],
   "source": [
    "def is_valid(report):\n",
    "    return (is_decreasing(report) or is_increasing(report)) and check_dst(report)"
   ]
  },
  {
   "cell_type": "code",
   "execution_count": 9,
   "metadata": {},
   "outputs": [
    {
     "data": {
      "text/plain": [
       "490"
      ]
     },
     "execution_count": 9,
     "metadata": {},
     "output_type": "execute_result"
    }
   ],
   "source": [
    "n_safe = 0\n",
    "for report in reports:\n",
    "    if not is_valid(report):\n",
    "        continue\n",
    "    n_safe += 1\n",
    "n_safe"
   ]
  },
  {
   "cell_type": "markdown",
   "metadata": {},
   "source": [
    "## Part 2"
   ]
  },
  {
   "cell_type": "code",
   "execution_count": 10,
   "metadata": {},
   "outputs": [
    {
     "data": {
      "text/plain": [
       "536"
      ]
     },
     "execution_count": 10,
     "metadata": {},
     "output_type": "execute_result"
    }
   ],
   "source": [
    "n_safe = 0\n",
    "for report in reports:\n",
    "    if not is_valid(report):\n",
    "        # try again with one item removed\n",
    "        for i in range(len(report)):\n",
    "            if is_valid(report[:i] + report[i+1:]):\n",
    "                n_safe += 1\n",
    "                break\n",
    "    else:\n",
    "        n_safe += 1\n",
    "n_safe"
   ]
  }
 ],
 "metadata": {
  "kernelspec": {
   "display_name": "Python 3",
   "language": "python",
   "name": "python3"
  },
  "language_info": {
   "codemirror_mode": {
    "name": "ipython",
    "version": 3
   },
   "file_extension": ".py",
   "mimetype": "text/x-python",
   "name": "python",
   "nbconvert_exporter": "python",
   "pygments_lexer": "ipython3",
   "version": "3.10.12"
  }
 },
 "nbformat": 4,
 "nbformat_minor": 2
}
