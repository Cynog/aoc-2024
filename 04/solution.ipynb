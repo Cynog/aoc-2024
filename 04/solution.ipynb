{
 "cells": [
  {
   "cell_type": "code",
   "execution_count": 88,
   "metadata": {},
   "outputs": [],
   "source": [
    "import numpy as np"
   ]
  },
  {
   "cell_type": "markdown",
   "metadata": {},
   "source": [
    "## Part 1"
   ]
  },
  {
   "cell_type": "code",
   "execution_count": 89,
   "metadata": {},
   "outputs": [
    {
     "data": {
      "text/plain": [
       "array([['X', 'M', 'M', ..., 'M', 'M', 'M'],\n",
       "       ['M', 'S', 'M', ..., 'A', 'A', 'M'],\n",
       "       ['A', 'A', 'M', ..., 'M', 'X', 'X'],\n",
       "       ...,\n",
       "       ['A', 'M', 'A', ..., 'S', 'X', 'X'],\n",
       "       ['M', 'A', 'A', ..., 'M', 'A', 'X'],\n",
       "       ['A', 'M', 'S', ..., 'M', 'X', 'M']], dtype='<U1')"
      ]
     },
     "execution_count": 89,
     "metadata": {},
     "output_type": "execute_result"
    }
   ],
   "source": [
    "# load strings of text as character matrix\n",
    "input = np.genfromtxt(\"input.txt\", dtype='U1', delimiter=1)\n",
    "input"
   ]
  },
  {
   "cell_type": "code",
   "execution_count": 90,
   "metadata": {},
   "outputs": [],
   "source": [
    "#! GPT CODE\n",
    "\n",
    "# Function to count occurrences of a word in all directions\n",
    "def count_word_occurrences(matrix, word):\n",
    "    rows, cols = matrix.shape\n",
    "    word_length = len(word)\n",
    "    directions = [\n",
    "        (0, 1),  # Right\n",
    "        (0, -1), # Left\n",
    "        (1, 0),  # Down\n",
    "        (-1, 0), # Up\n",
    "        (1, 1),  # Down-right\n",
    "        (1, -1), # Down-left\n",
    "        (-1, 1), # Up-right\n",
    "        (-1, -1) # Up-left\n",
    "    ]\n",
    "    \n",
    "    def is_valid(x, y):\n",
    "        return 0 <= x < rows and 0 <= y < cols\n",
    "    \n",
    "    def search_direction(x, y, dx, dy):\n",
    "        for i in range(word_length):\n",
    "            nx, ny = x + i * dx, y + i * dy\n",
    "            if not is_valid(nx, ny) or matrix[nx, ny] != word[i]:\n",
    "                return False\n",
    "        return True\n",
    "    \n",
    "    count = 0\n",
    "    for x in range(rows):\n",
    "        for y in range(cols):\n",
    "            for dx, dy in directions:\n",
    "                if search_direction(x, y, dx, dy):\n",
    "                    count += 1\n",
    "    \n",
    "    return count"
   ]
  },
  {
   "cell_type": "code",
   "execution_count": 91,
   "metadata": {},
   "outputs": [
    {
     "data": {
      "text/plain": [
       "2297"
      ]
     },
     "execution_count": 91,
     "metadata": {},
     "output_type": "execute_result"
    }
   ],
   "source": [
    "count_word_occurrences(input, \"XMAS\")"
   ]
  },
  {
   "cell_type": "markdown",
   "metadata": {},
   "source": [
    "## Part 2"
   ]
  },
  {
   "cell_type": "code",
   "execution_count": 92,
   "metadata": {},
   "outputs": [],
   "source": [
    "def generate_cross_patterns(word):\n",
    "    assert len(word) % 2 == 1\n",
    "\n",
    "    patterns = []\n",
    "    for dir1 in [1, -1]:\n",
    "        for dir2 in [1, -1]:\n",
    "            # nsew\n",
    "            #p = np.full((len(word), len(word)), \".\", dtype='U1')\n",
    "            #for i in range(len(word)):\n",
    "            #    p[i, len(word) // 2] = word[::dir1][i]\n",
    "            #    p[len(word) // 2, i] = word[::dir2][i]\n",
    "            #patterns.append(p)\n",
    "\n",
    "            # diagonal\n",
    "            p = np.full((len(word), len(word)), \".\", dtype='U1')\n",
    "            for i in range(len(word)):\n",
    "                p[i, i] = word[::dir1][i]\n",
    "                p[len(word) - 1 - i, i] = word[::dir2][i]\n",
    "            patterns.append(p)\n",
    "\n",
    "    return patterns"
   ]
  },
  {
   "cell_type": "code",
   "execution_count": 93,
   "metadata": {},
   "outputs": [
    {
     "name": "stdout",
     "output_type": "stream",
     "text": [
      "[['M' '.' 'S']\n",
      " ['.' 'A' '.']\n",
      " ['M' '.' 'S']]\n",
      "\n",
      "[['M' '.' 'M']\n",
      " ['.' 'A' '.']\n",
      " ['S' '.' 'S']]\n",
      "\n",
      "[['S' '.' 'S']\n",
      " ['.' 'A' '.']\n",
      " ['M' '.' 'M']]\n",
      "\n",
      "[['S' '.' 'M']\n",
      " ['.' 'A' '.']\n",
      " ['S' '.' 'M']]\n",
      "\n"
     ]
    }
   ],
   "source": [
    "patterns = generate_cross_patterns(\"MAS\")\n",
    "for p in patterns:\n",
    "    print(p)\n",
    "    print()"
   ]
  },
  {
   "cell_type": "code",
   "execution_count": 94,
   "metadata": {},
   "outputs": [],
   "source": [
    "def compare_pattern(matrix, pattern):\n",
    "    size = patterns[0].shape[0]\n",
    "    for i in range(size):\n",
    "        for j in range(size):\n",
    "            if pattern[i, j] != \".\" and pattern[i, j] != matrix[i, j]:\n",
    "                return False\n",
    "            \n",
    "    return True"
   ]
  },
  {
   "cell_type": "code",
   "execution_count": 97,
   "metadata": {},
   "outputs": [],
   "source": [
    "def find_patterns_in_matrix(matrix, patterns):\n",
    "    size = patterns[0].shape[0]\n",
    "    border = size // 2\n",
    "    count = 0\n",
    "    for i in range(border, matrix.shape[0] - border):\n",
    "        for j in range(border, matrix.shape[1] - border):\n",
    "            submatrix = matrix[i - border:i + border + 1, j - border:j + border + 1]\n",
    "            for pattern in patterns:\n",
    "                if compare_pattern(submatrix, pattern):\n",
    "                    count += 1\n",
    "                    #break\n",
    "    return count"
   ]
  },
  {
   "cell_type": "code",
   "execution_count": 98,
   "metadata": {},
   "outputs": [
    {
     "data": {
      "text/plain": [
       "1745"
      ]
     },
     "execution_count": 98,
     "metadata": {},
     "output_type": "execute_result"
    }
   ],
   "source": [
    "find_patterns_in_matrix(input, patterns)"
   ]
  }
 ],
 "metadata": {
  "kernelspec": {
   "display_name": "Python 3",
   "language": "python",
   "name": "python3"
  },
  "language_info": {
   "codemirror_mode": {
    "name": "ipython",
    "version": 3
   },
   "file_extension": ".py",
   "mimetype": "text/x-python",
   "name": "python",
   "nbconvert_exporter": "python",
   "pygments_lexer": "ipython3",
   "version": "3.10.12"
  }
 },
 "nbformat": 4,
 "nbformat_minor": 2
}
