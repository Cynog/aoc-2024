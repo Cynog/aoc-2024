{
 "cells": [
  {
   "cell_type": "markdown",
   "metadata": {},
   "source": [
    "## Part 1"
   ]
  },
  {
   "cell_type": "code",
   "execution_count": 11,
   "metadata": {},
   "outputs": [
    {
     "name": "stdout",
     "output_type": "stream",
     "text": [
      "143\n"
     ]
    }
   ],
   "source": [
    "#! GPT CODE\n",
    "\n",
    "from collections import defaultdict, deque\n",
    "\n",
    "def parse_input(input_text):\n",
    "    rules, updates = input_text.strip().split(\"\\n\\n\")\n",
    "    ordering_rules = [tuple(map(int, line.split('|'))) for line in rules.splitlines()]\n",
    "    update_lists = [list(map(int, line.split(','))) for line in updates.splitlines()]\n",
    "    return ordering_rules, update_lists\n",
    "\n",
    "def build_graph(rules):\n",
    "    graph = defaultdict(list)\n",
    "    for x, y in rules:\n",
    "        graph[x].append(y)\n",
    "    return graph\n",
    "\n",
    "def is_topologically_sorted(update, graph):\n",
    "    # Build a set of all nodes in the subgraph induced by this update\n",
    "    update_set = set(update)\n",
    "    # Filter graph for only relevant nodes\n",
    "    subgraph = {node: [neighbor for neighbor in neighbors if neighbor in update_set]\n",
    "                for node, neighbors in graph.items() if node in update_set}\n",
    "    \n",
    "    # Compute in-degrees for the subgraph\n",
    "    in_degree = defaultdict(int)\n",
    "    for neighbors in subgraph.values():\n",
    "        for neighbor in neighbors:\n",
    "            in_degree[neighbor] += 1\n",
    "    \n",
    "    # Perform topological sort on the subgraph\n",
    "    # Start with nodes with no incoming edges\n",
    "    queue = deque([node for node in update if in_degree[node] == 0])\n",
    "    sorted_order = []\n",
    "    \n",
    "    while queue:\n",
    "        current = queue.popleft()\n",
    "        sorted_order.append(current)\n",
    "        for neighbor in subgraph.get(current, []):\n",
    "            in_degree[neighbor] -= 1\n",
    "            if in_degree[neighbor] == 0:\n",
    "                queue.append(neighbor)\n",
    "    \n",
    "    return sorted_order == update\n",
    "\n",
    "def sum_middle_pages(input_text):\n",
    "    rules, updates = parse_input(input_text)\n",
    "    graph = build_graph(rules)\n",
    "    \n",
    "    valid_updates = []\n",
    "    for update in updates:\n",
    "        if is_topologically_sorted(update, graph):\n",
    "            valid_updates.append(update)\n",
    "    \n",
    "    # Compute the sum of middle elements for valid updates\n",
    "    middle_sum = sum(update[len(update) // 2] for update in valid_updates)\n",
    "    return middle_sum\n",
    "\n",
    "# Example usage:\n",
    "example_input = \"\"\"\n",
    "47|53\n",
    "97|13\n",
    "97|61\n",
    "97|47\n",
    "75|29\n",
    "61|13\n",
    "75|53\n",
    "29|13\n",
    "97|29\n",
    "53|29\n",
    "61|53\n",
    "97|53\n",
    "61|29\n",
    "47|13\n",
    "75|47\n",
    "97|75\n",
    "47|61\n",
    "75|61\n",
    "47|29\n",
    "75|13\n",
    "53|13\n",
    "\n",
    "75,47,61,53,29\n",
    "97,61,53,29,13\n",
    "75,29,13\n",
    "75,97,47,61,53\n",
    "61,13,29\n",
    "97,13,75,29,47\n",
    "\"\"\"\n",
    "\n",
    "print(sum_middle_pages(example_input))  # Should output 143\n"
   ]
  },
  {
   "cell_type": "code",
   "execution_count": 12,
   "metadata": {},
   "outputs": [],
   "source": [
    "# read input from text file\n",
    "with open(\"input.txt\", 'r') as f:\n",
    "    input_text = f.read()"
   ]
  },
  {
   "cell_type": "code",
   "execution_count": 13,
   "metadata": {},
   "outputs": [
    {
     "name": "stdout",
     "output_type": "stream",
     "text": [
      "6051\n"
     ]
    }
   ],
   "source": [
    "print(sum_middle_pages(input_text))"
   ]
  },
  {
   "cell_type": "markdown",
   "metadata": {},
   "source": [
    "## Part 2"
   ]
  },
  {
   "cell_type": "code",
   "execution_count": 14,
   "metadata": {},
   "outputs": [
    {
     "name": "stdout",
     "output_type": "stream",
     "text": [
      "123\n"
     ]
    }
   ],
   "source": [
    "#! GPT CODE\n",
    "\n",
    "def topological_sort(update, graph):\n",
    "    # Build a set of all nodes in the subgraph induced by this update\n",
    "    update_set = set(update)\n",
    "    # Filter graph for only relevant nodes\n",
    "    subgraph = {node: [neighbor for neighbor in neighbors if neighbor in update_set]\n",
    "                for node, neighbors in graph.items() if node in update_set}\n",
    "    \n",
    "    # Compute in-degrees for the subgraph\n",
    "    in_degree = defaultdict(int)\n",
    "    for neighbors in subgraph.values():\n",
    "        for neighbor in neighbors:\n",
    "            in_degree[neighbor] += 1\n",
    "    \n",
    "    # Perform topological sort on the subgraph\n",
    "    # Start with nodes with no incoming edges\n",
    "    queue = deque([node for node in update if in_degree[node] == 0])\n",
    "    sorted_order = []\n",
    "    \n",
    "    while queue:\n",
    "        current = queue.popleft()\n",
    "        sorted_order.append(current)\n",
    "        for neighbor in subgraph.get(current, []):\n",
    "            in_degree[neighbor] -= 1\n",
    "            if in_degree[neighbor] == 0:\n",
    "                queue.append(neighbor)\n",
    "    \n",
    "    return sorted_order\n",
    "\n",
    "def sum_middle_pages_incorrect(input_text):\n",
    "    rules, updates = parse_input(input_text)\n",
    "    graph = build_graph(rules)\n",
    "    \n",
    "    invalid_updates = []\n",
    "    for update in updates:\n",
    "        if not is_topologically_sorted(update, graph):\n",
    "            # Reorder the update using topological sort\n",
    "            reordered = topological_sort(update, graph)\n",
    "            invalid_updates.append(reordered)\n",
    "    \n",
    "    # Compute the sum of middle elements for invalid updates\n",
    "    middle_sum = sum(update[len(update) // 2] for update in invalid_updates)\n",
    "    return middle_sum\n",
    "\n",
    "# Example usage:\n",
    "example_input = \"\"\"\n",
    "47|53\n",
    "97|13\n",
    "97|61\n",
    "97|47\n",
    "75|29\n",
    "61|13\n",
    "75|53\n",
    "29|13\n",
    "97|29\n",
    "53|29\n",
    "61|53\n",
    "97|53\n",
    "61|29\n",
    "47|13\n",
    "75|47\n",
    "97|75\n",
    "47|61\n",
    "75|61\n",
    "47|29\n",
    "75|13\n",
    "53|13\n",
    "\n",
    "75,47,61,53,29\n",
    "97,61,53,29,13\n",
    "75,29,13\n",
    "75,97,47,61,53\n",
    "61,13,29\n",
    "97,13,75,29,47\n",
    "\"\"\"\n",
    "\n",
    "print(sum_middle_pages_incorrect(example_input))  # Should output 123"
   ]
  },
  {
   "cell_type": "code",
   "execution_count": 15,
   "metadata": {},
   "outputs": [
    {
     "data": {
      "text/plain": [
       "5093"
      ]
     },
     "execution_count": 15,
     "metadata": {},
     "output_type": "execute_result"
    }
   ],
   "source": [
    "sum_middle_pages_incorrect(input_text)"
   ]
  },
  {
   "cell_type": "markdown",
   "metadata": {},
   "source": [
    "Amazing! Chat GPT solved both parts flawlessly!"
   ]
  }
 ],
 "metadata": {
  "kernelspec": {
   "display_name": "Python 3",
   "language": "python",
   "name": "python3"
  },
  "language_info": {
   "codemirror_mode": {
    "name": "ipython",
    "version": 3
   },
   "file_extension": ".py",
   "mimetype": "text/x-python",
   "name": "python",
   "nbconvert_exporter": "python",
   "pygments_lexer": "ipython3",
   "version": "3.10.12"
  }
 },
 "nbformat": 4,
 "nbformat_minor": 2
}
